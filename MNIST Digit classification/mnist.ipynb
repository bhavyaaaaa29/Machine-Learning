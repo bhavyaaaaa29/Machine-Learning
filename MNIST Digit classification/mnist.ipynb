{
 "cells": [
  {
   "cell_type": "markdown",
   "metadata": {},
   "source": [
    "<h1>MNIST dataset</h1>"
   ]
  },
  {
   "cell_type": "code",
   "execution_count": 1,
   "metadata": {},
   "outputs": [],
   "source": [
    "import numpy as np\n",
    "import matplotlib as mlp\n",
    "import matplotlib.pyplot as plt\n",
    "import pandas as pd\n",
    "import seaborn as sns\n",
    "import sklearn\n",
    "from sklearn.metrics import confusion_matrix,classification_report"
   ]
  },
  {
   "cell_type": "code",
   "execution_count": 2,
   "metadata": {},
   "outputs": [
    {
     "name": "stdout",
     "output_type": "stream",
     "text": [
      "<class 'pandas.core.frame.DataFrame'>\n",
      "RangeIndex: 60000 entries, 0 to 59999\n",
      "Columns: 785 entries, label to 28x28\n",
      "dtypes: int64(785)\n",
      "memory usage: 359.3 MB\n"
     ]
    }
   ],
   "source": [
    "train = pd.read_csv('mnist_train.csv')\n",
    "test = pd.read_csv('mnist_test.csv')\n",
    "train.info()"
   ]
  },
  {
   "cell_type": "markdown",
   "metadata": {},
   "source": [
    "<p>Dividing the data and droping the label column from train and test data</p>"
   ]
  },
  {
   "cell_type": "code",
   "execution_count": 3,
   "metadata": {},
   "outputs": [],
   "source": [
    "train_label , test_label = train['label'] , test['label']\n",
    "train.drop(['label'], axis=1, inplace=True)\n",
    "test.drop(['label'], axis=1, inplace=True)\n",
    "\n"
   ]
  },
  {
   "cell_type": "code",
   "execution_count": 4,
   "metadata": {},
   "outputs": [
    {
     "name": "stdout",
     "output_type": "stream",
     "text": [
      "<class 'pandas.core.frame.DataFrame'>\n",
      "RangeIndex: 60000 entries, 0 to 59999\n",
      "Columns: 784 entries, 1x1 to 28x28\n",
      "dtypes: int64(784)\n",
      "memory usage: 358.9 MB\n"
     ]
    },
    {
     "data": {
      "text/plain": [
       "(60000, 784)"
      ]
     },
     "execution_count": 4,
     "metadata": {},
     "output_type": "execute_result"
    }
   ],
   "source": [
    "train.info()\n",
    "train.shape"
   ]
  },
  {
   "cell_type": "markdown",
   "metadata": {},
   "source": [
    "<p>Plotting an image to visualise our data properly</p>"
   ]
  },
  {
   "cell_type": "code",
   "execution_count": 5,
   "metadata": {},
   "outputs": [
    {
     "data": {
      "text/plain": [
       "<matplotlib.image.AxesImage at 0x229e12e4520>"
      ]
     },
     "execution_count": 5,
     "metadata": {},
     "output_type": "execute_result"
    },
    {
     "data": {
      "image/png": "[encoded data removed]",
      "text/plain": [
       "<Figure size 432x288 with 1 Axes>"
      ]
     },
     "metadata": {
      "needs_background": "light"
     },
     "output_type": "display_data"
    }
   ],
   "source": [
    "num1 = train[1:2].to_numpy()\n",
    "num1_image = num1.reshape(28,28)\n",
    "plt.imshow(num1_image, cmap = mlp.cm.binary, interpolation=\"nearest\")\n",
    "#plt.axis(\"off\")\n"
   ]
  },
  {
   "cell_type": "markdown",
   "metadata": {},
   "source": [
    "Scaling our data using MinMaxScaler to bring data in the range of 0 to 1"
   ]
  },
  {
   "cell_type": "code",
   "execution_count": 6,
   "metadata": {},
   "outputs": [],
   "source": [
    "x_train , y_train = train.to_numpy() , train_label.to_numpy()\n",
    "x_test , y_test = test.to_numpy() , test_label.to_numpy() \n",
    "from sklearn.preprocessing import MinMaxScaler \n",
    "scaler = MinMaxScaler()\n",
    "x_train , x_test = scaler.fit_transform(x_train) , scaler.fit_transform(x_test)"
   ]
  },
  {
   "cell_type": "markdown",
   "metadata": {},
   "source": [
    "<h2>Model Selection</h3>\n",
    "<p>a. K-Nearest Neighbours</p>"
   ]
  },
  {
   "cell_type": "code",
   "execution_count": 7,
   "metadata": {},
   "outputs": [],
   "source": [
    "from sklearn.neighbors import KNeighborsClassifier\n",
    "model = KNeighborsClassifier(n_neighbors=100)\n",
    "model.fit(x_train , y_train)\n",
    "#model.predict_proba(x_train)\n",
    "knn_predictions  = model.predict(x_train)\n",
    "knn_cm = confusion_matrix(y_train , knn_predictions)\n"
   ]
  },
  {
   "cell_type": "code",
   "execution_count": 8,
   "metadata": {},
   "outputs": [
    {
     "name": "stdout",
     "output_type": "stream",
     "text": [
      "[[5840    7    5    1    1   15   43    3    3    5]\n",
      " [   0 6691   16    5   10    0    4    9    1    6]\n",
      " [  82  226 5349   31   19   13   30  157   34   17]\n",
      " [  14   76   35 5737    3   78   12   77   44   55]\n",
      " [   5  127    1    1 5429    1   32   11    3  232]\n",
      " [  25   63    3   89   16 5044   85    6    9   81]\n",
      " [  48   41    0    0    6   33 5789    0    1    0]\n",
      " [   7  174   12    2   23    1    1 5935    1  109]\n",
      " [  38  198   11  157   34  126   43   32 5064  148]\n",
      " [  28   52    6   73   45    9    4  120   11 5601]]\n"
     ]
    },
    {
     "data": {
      "image/png": "[encoded data removed]",
      "text/plain": [
       "<Figure size 288x288 with 1 Axes>"
      ]
     },
     "metadata": {
      "needs_background": "light"
     },
     "output_type": "display_data"
    }
   ],
   "source": [
    "print(knn_cm)\n",
    "plt.matshow(knn_cm, cmap=plt.cm.gray)\n",
    "plt.show()\n",
    "knn_cr = classification_report(y_train , knn_predictions, output_dict = True )\n"
   ]
  },
  {
   "cell_type": "markdown",
   "metadata": {},
   "source": [
    "<p>b.Decision tree</p>"
   ]
  },
  {
   "cell_type": "code",
   "execution_count": 9,
   "metadata": {},
   "outputs": [],
   "source": [
    "from sklearn import tree\n",
    "tree_clf = tree.DecisionTreeClassifier(max_depth=15)\n",
    "tree_clf.fit(x_train,y_train)\n",
    "tree_predictions = tree_clf.predict(x_train)\n"
   ]
  },
  {
   "cell_type": "code",
   "execution_count": 10,
   "metadata": {},
   "outputs": [
    {
     "name": "stdout",
     "output_type": "stream",
     "text": [
      "[[5901    0    4    3    4    3    1    0    6    1]\n",
      " [   1 6711   12    5    2    0    2    6    1    2]\n",
      " [   5   10 5872    6   17    3    0   26   12    7]\n",
      " [   6    9   34 5997    9   23    1   22   12   18]\n",
      " [  11    5    2    7 5734    2    2    4    8   67]\n",
      " [  15    7    8   24   12 5310    7    4    8   26]\n",
      " [  22   10    2    0   16    4 5846    0   18    0]\n",
      " [   3    9   18    0   19    2    1 6182    1   30]\n",
      " [   2   34    8    8   24    4    4    5 5709   53]\n",
      " [  12    7    6   18   36   17    1   37   11 5804]]\n"
     ]
    },
    {
     "data": {
      "image/png": "[encoded data removed]",
      "text/plain": [
       "<Figure size 288x288 with 1 Axes>"
      ]
     },
     "metadata": {
      "needs_background": "light"
     },
     "output_type": "display_data"
    }
   ],
   "source": [
    "tree_cm = confusion_matrix(y_train , tree_predictions)\n",
    "print(tree_cm)\n",
    "plt.matshow(tree_cm, cmap=plt.cm.gray)\n",
    "plt.show()\n",
    "tree_cr = classification_report(y_train , tree_predictions, output_dict = True )"
   ]
  },
  {
   "cell_type": "code",
   "execution_count": 11,
   "metadata": {},
   "outputs": [
    {
     "data": {
      "text/plain": [
       "0.9844333333333334"
      ]
     },
     "execution_count": 11,
     "metadata": {},
     "output_type": "execute_result"
    }
   ],
   "source": [
    "from sklearn.metrics import precision_score, recall_score\n",
    "recall_score(y_train, tree_predictions , average = \"weighted\")"
   ]
  },
  {
   "cell_type": "markdown",
   "metadata": {},
   "source": [
    "<p>c. Naive Bayes</p>"
   ]
  },
  {
   "cell_type": "code",
   "execution_count": 12,
   "metadata": {},
   "outputs": [],
   "source": [
    "# from sklearn.naive_bayes import GaussianNB\n",
    "# gnb = GaussianNB()\n",
    "# gnb.fit(x_train , y_train)\n",
    "# gnb_prediction = gnb.predict(x_train)\n"
   ]
  },
  {
   "cell_type": "code",
   "execution_count": 13,
   "metadata": {},
   "outputs": [],
   "source": [
    "# gnb_cm = confusion_matrix(y_train ,gnb_prediction )\n",
    "# print(gnb_cm)\n",
    "# plt.matshow(gnb_cm, cmap=plt.cm.gray)\n",
    "# plt.show()\n",
    "# gnb_cr = classification_report(y_train , gnb_prediction, output_dict = True )"
   ]
  },
  {
   "cell_type": "markdown",
   "metadata": {},
   "source": [
    "d. Random Forest"
   ]
  },
  {
   "cell_type": "code",
   "execution_count": 14,
   "metadata": {},
   "outputs": [],
   "source": [
    "from sklearn.ensemble import RandomForestClassifier\n",
    "rf = RandomForestClassifier(min_samples_leaf=25)\n",
    "rf.fit(x_train, y_train)\n",
    "rf_prediction = rf.predict(x_train)"
   ]
  },
  {
   "cell_type": "code",
   "execution_count": 15,
   "metadata": {},
   "outputs": [
    {
     "name": "stdout",
     "output_type": "stream",
     "text": [
      "[[5834    0    6    1    4    6   19    3   46    4]\n",
      " [   0 6608   43   21   13    8   12   15   14    8]\n",
      " [  27   10 5701   26   46    6   30   54   40   18]\n",
      " [   8   12   92 5789   10   50   15   54   69   32]\n",
      " [  11    6   12    0 5627    1   31   13   17  124]\n",
      " [  24   18   10   56   13 5169   51   10   42   28]\n",
      " [  29   11    6    0   14   45 5786    1   26    0]\n",
      " [   4   28   67    5   42    1    0 6008   18   92]\n",
      " [  14   35   39   56   28   40   31    5 5526   77]\n",
      " [  28   12   23   87   82   20    4   66   49 5578]]\n"
     ]
    },
    {
     "data": {
      "image/png": "[encoded data removed]",
      "text/plain": [
       "<Figure size 288x288 with 1 Axes>"
      ]
     },
     "metadata": {
      "needs_background": "light"
     },
     "output_type": "display_data"
    }
   ],
   "source": [
    "rf_cm = confusion_matrix(y_train ,rf_prediction )\n",
    "print(rf_cm)\n",
    "plt.matshow(rf_cm, cmap=plt.cm.gray)\n",
    "plt.show()\n",
    "rf_cr = classification_report(y_train , rf_prediction, output_dict = True )"
   ]
  },
  {
   "cell_type": "markdown",
   "metadata": {},
   "source": [
    "e. Support Vector Machine"
   ]
  },
  {
   "cell_type": "code",
   "execution_count": 16,
   "metadata": {},
   "outputs": [],
   "source": [
    "# from sklearn.svm import LinearSVC\n",
    "# r = [5000,10000,15000,20000]\n",
    "# s=[]\n",
    "# for i in r:\n",
    "#     svc = LinearSVC(max_iter=10000 )\n",
    "#     svc.fit(x_train,y_train)\n",
    "#     svc_predictions = svc.predict(x_train)\n"
   ]
  },
  {
   "cell_type": "code",
   "execution_count": 17,
   "metadata": {},
   "outputs": [],
   "source": [
    "# svc_cm = confusion_matrix(y_train ,svc_predictions )\n",
    "# print(svc_cm)\n",
    "# plt.matshow(svc_cm, cmap=plt.cm.gray)\n",
    "# plt.show()\n",
    "# svc_cr = (classification_report(y_train , svc_predictions, output_dict = True ))\n"
   ]
  },
  {
   "cell_type": "markdown",
   "metadata": {},
   "source": [
    "f. Neural Network"
   ]
  },
  {
   "cell_type": "code",
   "execution_count": 18,
   "metadata": {},
   "outputs": [],
   "source": [
    "from sklearn.neural_network import MLPClassifier\n",
    "dnn_classifier = MLPClassifier(hidden_layer_sizes = [75]*3)\n",
    "dnn_classifier.fit(x_train, y_train)\n",
    "dnn_predictions = dnn_classifier.predict(x_train)\n",
    "    \n"
   ]
  },
  {
   "cell_type": "code",
   "execution_count": 19,
   "metadata": {},
   "outputs": [
    {
     "name": "stdout",
     "output_type": "stream",
     "text": [
      "[[5923    0    0    0    0    0    0    0    0    0]\n",
      " [   0 6742    0    0    0    0    0    0    0    0]\n",
      " [   0    0 5958    0    0    0    0    0    0    0]\n",
      " [   0    0    0 6131    0    0    0    0    0    0]\n",
      " [   0    0    0    0 5842    0    0    0    0    0]\n",
      " [   0    0    0    0    0 5421    0    0    0    0]\n",
      " [   0    0    0    0    0    0 5918    0    0    0]\n",
      " [   0    0    0    0    0    0    0 6265    0    0]\n",
      " [   0    0    0    0    0    0    0    0 5851    0]\n",
      " [   0    0    0    0    0    0    0    0    0 5949]]\n"
     ]
    },
    {
     "data": {
      "image/png": "[encoded data removed]",
      "text/plain": [
       "<Figure size 288x288 with 1 Axes>"
      ]
     },
     "metadata": {
      "needs_background": "light"
     },
     "output_type": "display_data"
    }
   ],
   "source": [
    "dnn_cm = confusion_matrix(y_train ,dnn_predictions )\n",
    "print(dnn_cm)\n",
    "plt.matshow(dnn_cm, cmap=plt.cm.gray)\n",
    "plt.show()\n",
    "dnn_cr = (classification_report(y_train , dnn_predictions, output_dict = True ))\n",
    "dnn_cr = pd.DataFrame(dnn_cr).transpose()\n"
   ]
  },
  {
   "cell_type": "code",
   "execution_count": 20,
   "metadata": {},
   "outputs": [],
   "source": [
    "knn_cr = pd.DataFrame(knn_cr).transpose()\n",
    "tree_cr = pd.DataFrame(tree_cr).transpose()\n",
    "#gnb_cr = pd.DataFrame(gnb_cr).transpose()\n",
    "rf_cr = pd.DataFrame(rf_cr).transpose()\n",
    "#svc_cr = pd.DataFrame(svc_cr).transpose()\n"
   ]
  },
  {
   "cell_type": "code",
   "execution_count": 21,
   "metadata": {},
   "outputs": [
    {
     "name": "stdout",
     "output_type": "stream",
     "text": [
      "k-nearest neighbors\n",
      "              precision    recall  f1-score       support\n",
      "accuracy       0.941317  0.941317  0.941317      0.941317\n",
      "macro avg      0.944576  0.940423  0.941430  60000.000000\n",
      "weighted avg   0.943437  0.941317  0.941274  60000.000000\n",
      "Decision Tree\n",
      "              precision    recall  f1-score       support\n",
      "accuracy       0.984433  0.984433  0.984433      0.984433\n",
      "macro avg      0.984476  0.984238  0.984340  60000.000000\n",
      "weighted avg   0.984473  0.984433  0.984436  60000.000000\n",
      "Random Forest\n",
      "              precision    recall  f1-score       support\n",
      "accuracy       0.960433  0.960433  0.960433      0.960433\n",
      "macro avg      0.960189  0.960166  0.960160  60000.000000\n",
      "weighted avg   0.960432  0.960433  0.960416  60000.000000\n",
      "Neural Network\n",
      "              precision  recall  f1-score  support\n",
      "accuracy            1.0     1.0       1.0      1.0\n",
      "macro avg           1.0     1.0       1.0  60000.0\n",
      "weighted avg        1.0     1.0       1.0  60000.0\n"
     ]
    }
   ],
   "source": [
    "\n",
    "print(\"k-nearest neighbors\")\n",
    "print(knn_cr[::][10:])\n",
    "print(\"Decision Tree\")\n",
    "print(tree_cr[::][10:])\n",
    "# print(\"Naive Bayes\")\n",
    "# print(gnb_cr[::][10:])\n",
    "print(\"Random Forest\")\n",
    "print(rf_cr[::][10:])\n",
    "# print(\"Support Vector Machine\")\n",
    "# print(svc_cr[::][10:])\n",
    "print(\"Neural Network\")\n",
    "print(dnn_cr[::][10:])\n",
    "\n",
    "    \n",
    "    "
   ]
  },
  {
   "cell_type": "markdown",
   "metadata": {},
   "source": [
    "<h3>Final model selection</h3>"
   ]
  },
  {
   "cell_type": "code",
   "execution_count": 22,
   "metadata": {},
   "outputs": [
    {
     "name": "stdout",
     "output_type": "stream",
     "text": [
      "1.0\n"
     ]
    }
   ],
   "source": [
    "dnn_classifier.fit(x_test, y_test)\n",
    "dnn_pred = dnn_classifier.predict(x_test)\n",
    "print(sklearn.metrics.accuracy_score(y_test,dnn_pred))\n"
   ]
  },
  {
   "cell_type": "code",
   "execution_count": 23,
   "metadata": {},
   "outputs": [
    {
     "name": "stdout",
     "output_type": "stream",
     "text": [
      "0.9936\n"
     ]
    }
   ],
   "source": [
    "tree_clf.fit(x_test,y_test)\n",
    "tree_pred = tree_clf.predict(x_test)\n",
    "print(sklearn.metrics.accuracy_score(y_test,tree_pred))"
   ]
  }
 ],
 "metadata": {
  "interpreter": {
   "hash": "a58197618d33055b0ebc452aa59256f981ec7ec33eed48ce73a474e604254b54"
  },
  "kernelspec": {
   "display_name": "Python 3.9.7 64-bit",
   "language": "python",
   "name": "python3"
  },
  "language_info": {
   "codemirror_mode": {
    "name": "ipython",
    "version": 3
   },
   "file_extension": ".py",
   "mimetype": "text/x-python",
   "name": "python",
   "nbconvert_exporter": "python",
   "pygments_lexer": "ipython3",
   "version": "3.9.7"
  },
  "orig_nbformat": 4
 },
 "nbformat": 4,
 "nbformat_minor": 2
}
