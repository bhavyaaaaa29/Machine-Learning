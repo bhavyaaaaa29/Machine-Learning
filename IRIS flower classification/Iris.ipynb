{
 "cells": [
  {
   "cell_type": "code",
   "execution_count": 1,
   "metadata": {},
   "outputs": [],
   "source": [
    "import numpy as np\n",
    "import matplotlib as mlp\n",
    "import matplotlib.pyplot as plt\n",
    "import pandas as pd\n",
    "import sklearn \n",
    "import tensorflow as tf\n",
    "%matplotlib inline"
   ]
  },
  {
   "cell_type": "code",
   "execution_count": 2,
   "metadata": {},
   "outputs": [
    {
     "name": "stdout",
     "output_type": "stream",
     "text": [
      "<class 'pandas.core.frame.DataFrame'>\n",
      "RangeIndex: 150 entries, 0 to 149\n",
      "Data columns (total 6 columns):\n",
      " #   Column         Non-Null Count  Dtype  \n",
      "---  ------         --------------  -----  \n",
      " 0   Id             150 non-null    int64  \n",
      " 1   SepalLengthCm  150 non-null    float64\n",
      " 2   SepalWidthCm   150 non-null    float64\n",
      " 3   PetalLengthCm  150 non-null    float64\n",
      " 4   PetalWidthCm   150 non-null    float64\n",
      " 5   Species        150 non-null    object \n",
      "dtypes: float64(4), int64(1), object(1)\n",
      "memory usage: 7.2+ KB\n"
     ]
    }
   ],
   "source": [
    "data = pd.read_csv(\"Iris.csv\")\n",
    "data.info()"
   ]
  },
  {
   "cell_type": "code",
   "execution_count": 3,
   "metadata": {},
   "outputs": [],
   "source": [
    "x = data.drop([\"Id\",\"Species\"],axis = 1)\n",
    "y = data.Species"
   ]
  },
  {
   "cell_type": "code",
   "execution_count": 4,
   "metadata": {},
   "outputs": [
    {
     "data": {
      "text/plain": [
       "<matplotlib.legend.Legend at 0x22e9e709490>"
      ]
     },
     "execution_count": 4,
     "metadata": {},
     "output_type": "execute_result"
    },
    {
     "data": {
      "image/png": "[encoded data removed]",
      "text/plain": [
       "<Figure size 432x288 with 1 Axes>"
      ]
     },
     "metadata": {
      "needs_background": "light"
     },
     "output_type": "display_data"
    }
   ],
   "source": [
    "plt.scatter(y,x[\"SepalWidthCm\"])\n",
    "plt.scatter(y,x[\"SepalLengthCm\"])\n",
    "plt.scatter(y,x[\"PetalWidthCm\"])\n",
    "plt.scatter(y,x[\"PetalLengthCm\"])\n",
    "plt.legend(x)"
   ]
  },
  {
   "cell_type": "code",
   "execution_count": 5,
   "metadata": {},
   "outputs": [
    {
     "data": {
      "text/plain": [
       "{'whiskers': [<matplotlib.lines.Line2D at 0x22ea080dfd0>,\n",
       "  <matplotlib.lines.Line2D at 0x22ea081f2e0>],\n",
       " 'caps': [<matplotlib.lines.Line2D at 0x22ea081f670>,\n",
       "  <matplotlib.lines.Line2D at 0x22ea081f880>],\n",
       " 'boxes': [<matplotlib.lines.Line2D at 0x22ea080dd90>],\n",
       " 'medians': [<matplotlib.lines.Line2D at 0x22ea081fb50>],\n",
       " 'fliers': [<matplotlib.lines.Line2D at 0x22ea081fe20>],\n",
       " 'means': []}"
      ]
     },
     "execution_count": 5,
     "metadata": {},
     "output_type": "execute_result"
    },
    {
     "data": {
      "image/png": "[encoded data removed]",
      "text/plain": [
       "<Figure size 432x288 with 1 Axes>"
      ]
     },
     "metadata": {
      "needs_background": "light"
     },
     "output_type": "display_data"
    }
   ],
   "source": [
    "plt.boxplot(x.SepalWidthCm)"
   ]
  },
  {
   "cell_type": "code",
   "execution_count": 6,
   "metadata": {},
   "outputs": [
    {
     "data": {
      "text/plain": [
       "array([0, 0, 0, 0, 0, 0, 0, 0, 0, 0, 0, 0, 0, 0, 0, 0, 0, 0, 0, 0, 0, 0,\n",
       "       0, 0, 0, 0, 0, 0, 0, 0, 0, 0, 0, 0, 0, 0, 0, 0, 0, 0, 0, 0, 0, 0,\n",
       "       0, 0, 0, 0, 0, 0, 1, 1, 1, 1, 1, 1, 1, 1, 1, 1, 1, 1, 1, 1, 1, 1,\n",
       "       1, 1, 1, 1, 1, 1, 1, 1, 1, 1, 1, 1, 1, 1, 1, 1, 1, 1, 1, 1, 1, 1,\n",
       "       1, 1, 1, 1, 1, 1, 1, 1, 1, 1, 1, 1, 2, 2, 2, 2, 2, 2, 2, 2, 2, 2,\n",
       "       2, 2, 2, 2, 2, 2, 2, 2, 2, 2, 2, 2, 2, 2, 2, 2, 2, 2, 2, 2, 2, 2,\n",
       "       2, 2, 2, 2, 2, 2, 2, 2, 2, 2, 2, 2, 2, 2, 2, 2, 2, 2])"
      ]
     },
     "execution_count": 6,
     "metadata": {},
     "output_type": "execute_result"
    }
   ],
   "source": [
    "from sklearn.preprocessing import LabelEncoder\n",
    "encoder = LabelEncoder()\n",
    "label = encoder.fit_transform(y)\n",
    "label"
   ]
  },
  {
   "cell_type": "code",
   "execution_count": 7,
   "metadata": {},
   "outputs": [
    {
     "data": {
      "text/plain": [
       "[15, 32, 33, 60]"
      ]
     },
     "execution_count": 7,
     "metadata": {},
     "output_type": "execute_result"
    }
   ],
   "source": [
    "outliers = []\n",
    "out_ind = []\n",
    "def detect_outliers_iqr(d):\n",
    "    q1 = np.percentile(d, 25)\n",
    "    q3 = np.percentile(d, 75)\n",
    "    #print(q1,q3)\n",
    "    IQR = q3-q1\n",
    "    lwr_bound = q1-(1.5*IQR)\n",
    "    upr_bound = q3+(1.5*IQR)\n",
    "    #print(lwr_bound,upr_bound)\n",
    "    count = -1\n",
    "    for i in d: \n",
    "        count += 1\n",
    "        if (i<lwr_bound or i>upr_bound):\n",
    "            outliers.append(i)\n",
    "            out_ind.append(count)\n",
    "    return outliers\n",
    "d_outlier = detect_outliers_iqr(x.SepalWidthCm)\n",
    "out_ind\n"
   ]
  },
  {
   "cell_type": "code",
   "execution_count": 8,
   "metadata": {},
   "outputs": [
    {
     "name": "stdout",
     "output_type": "stream",
     "text": [
      "3.6099999999999994\n",
      "3.6099999999999994\n",
      "3.6099999999999994\n",
      "2.5\n"
     ]
    }
   ],
   "source": [
    "tenth_percentile = np.percentile(np.sort(x.SepalWidthCm), 10)\n",
    "ninetieth_percentile = np.percentile(np.sort(x.SepalWidthCm), 90)\n",
    "#print(tenth_percentile, ninetieth_percentile)\n",
    "x.SepalWidthCm = np.where(x.SepalWidthCm<tenth_percentile, tenth_percentile, x.SepalWidthCm)\n",
    "x.SepalWidthCm = np.where(x.SepalWidthCm>ninetieth_percentile, ninetieth_percentile, x.SepalWidthCm)\n",
    "for i in out_ind:\n",
    "    print(x.SepalWidthCm[i])\n",
    "\n",
    "\n"
   ]
  },
  {
   "cell_type": "code",
   "execution_count": 9,
   "metadata": {},
   "outputs": [],
   "source": [
    "from sklearn.model_selection import train_test_split\n",
    "x_train , x_test , y_train , y_test = train_test_split(x,label, train_size=0.8 , random_state=42 , shuffle=True,stratify=y)\n"
   ]
  },
  {
   "cell_type": "code",
   "execution_count": 10,
   "metadata": {},
   "outputs": [
    {
     "data": {
      "text/plain": [
       "[<matplotlib.lines.Line2D at 0x22ea0ccca90>]"
      ]
     },
     "execution_count": 10,
     "metadata": {},
     "output_type": "execute_result"
    },
    {
     "data": {
      "image/png": "[encoded data removed]",
      "text/plain": [
       "<Figure size 432x288 with 1 Axes>"
      ]
     },
     "metadata": {
      "needs_background": "light"
     },
     "output_type": "display_data"
    }
   ],
   "source": [
    "from sklearn import tree\n",
    "scores = []\n",
    "for i in range (1,6):\n",
    "    tree_clf = tree.DecisionTreeClassifier(max_depth=i)\n",
    "    tree_clf.fit(x_train,y_train)\n",
    "    tree_predictions = tree_clf.predict(x_train)\n",
    "    scores.append(sklearn.metrics.accuracy_score(y_train,tree_predictions))\n",
    "plt.plot(range(1,6),scores)\n"
   ]
  },
  {
   "cell_type": "code",
   "execution_count": 15,
   "metadata": {},
   "outputs": [
    {
     "data": {
      "text/plain": [
       "0.9833333333333333"
      ]
     },
     "execution_count": 15,
     "metadata": {},
     "output_type": "execute_result"
    }
   ],
   "source": [
    "tree_clf = tree.DecisionTreeClassifier(max_depth=3 )\n",
    "tree_clf.fit(x_train,y_train)\n",
    "tree_predictions = tree_clf.predict(x_train)\n",
    "sklearn.metrics.accuracy_score(y_train,tree_predictions)"
   ]
  },
  {
   "cell_type": "code",
   "execution_count": 16,
   "metadata": {},
   "outputs": [
    {
     "name": "stdout",
     "output_type": "stream",
     "text": [
      "[[40  0  0]\n",
      " [ 0 38  2]\n",
      " [ 0  0 40]]\n"
     ]
    },
    {
     "data": {
      "image/png": "[encoded data removed]",
      "text/plain": [
       "<Figure size 288x288 with 1 Axes>"
      ]
     },
     "metadata": {
      "needs_background": "light"
     },
     "output_type": "display_data"
    }
   ],
   "source": [
    "from sklearn.metrics import confusion_matrix,classification_report\n",
    "tree_cm = confusion_matrix(y_train , tree_predictions)\n",
    "print(tree_cm)\n",
    "plt.matshow(tree_cm, cmap=plt.cm.gray)\n",
    "plt.show()\n",
    "tree_cr = classification_report(y_train , tree_predictions, output_dict = True )"
   ]
  },
  {
   "cell_type": "code",
   "execution_count": 17,
   "metadata": {},
   "outputs": [
    {
     "name": "stdout",
     "output_type": "stream",
     "text": [
      "[0 2 1 1 0 1 0 0 2 1 2 2 2 1 0 0 0 1 1 2 0 2 1 2 2 1 1 0 2 0] [0 2 1 1 0 1 0 0 2 1 2 2 2 1 0 0 0 1 1 2 0 2 1 2 2 1 1 0 2 0]\n"
     ]
    },
    {
     "data": {
      "text/plain": [
       "1.0"
      ]
     },
     "execution_count": 17,
     "metadata": {},
     "output_type": "execute_result"
    }
   ],
   "source": [
    "tree_clf.fit(x_test,y_test)\n",
    "y_pred = tree_clf.predict(x_test)\n",
    "print(y_pred,y_test)\n",
    "sklearn.metrics.accuracy_score(y_test,y_pred)"
   ]
  },
  {
   "cell_type": "code",
   "execution_count": 14,
   "metadata": {},
   "outputs": [],
   "source": [
    "# model = tf.keras.Sequential([\n",
    "#   tf.keras.layers.Dense(10, activation=tf.nn.relu, input_shape=(4,)),\n",
    "#   tf.keras.layers.Dense(10, activation=tf.nn.relu),\n",
    "#   tf.keras.layers.Dense(3)\n",
    "# ])\n",
    "# x_train = x_train.to_numpy()\n",
    "# predictions = model(x_train)\n",
    "# tf.nn.softmax(predictions[:5])\n",
    "# print(\"Prediction: {}\".format(tf.argmax(predictions[:5], axis=1)))\n",
    "# print(\"    Labels: {}\".format(y_train[:5]))\n",
    "# loss_fxn = tf.keras.losses.SparseCategoricalCrossentropy(from_logits=True)\n",
    "# def loss(model,x,y,training):\n",
    "#     loss_model = model(x_train , training)\n",
    "#     return  loss_fxn(y_true = y_train , y_pred = loss_model)\n",
    "\n",
    "# #loss_val = loss(model , x_train, y_train, training = False)\n",
    "\n",
    "\n",
    "# #print(\"Loss test: {}\".format(loss_val))\n",
    "# def grad(model , x ,y):\n",
    "#     with tf.GradientTape() as tape:\n",
    "#         loss_val = loss(model , x, y, training = True)\n",
    "#     return loss_val,tape.gradient(loss_val,model.trainable_variables)\n",
    "# optimizer = tf.keras.optimizers.SGD(learning_rate=0.01)\n",
    "# loss_value, grads = grad(model,x_train , y_train)\n",
    "\n",
    "# print(\"Step: {}, Initial Loss: {}\".format(optimizer.iterations.numpy(),\n",
    "#                                           loss_value.numpy()))\n",
    "\n",
    "# optimizer.apply_gradients(zip(grads, model.trainable_variables))\n",
    "\n",
    "# print(\"Step: {},         Loss: {}\".format(optimizer.iterations.numpy(),\n",
    "#                                           loss(model, x_train, y_train, training=True).numpy()))"
   ]
  }
 ],
 "metadata": {
  "interpreter": {
   "hash": "a58197618d33055b0ebc452aa59256f981ec7ec33eed48ce73a474e604254b54"
  },
  "kernelspec": {
   "display_name": "Python 3.9.7 64-bit",
   "language": "python",
   "name": "python3"
  },
  "language_info": {
   "codemirror_mode": {
    "name": "ipython",
    "version": 3
   },
   "file_extension": ".py",
   "mimetype": "text/x-python",
   "name": "python",
   "nbconvert_exporter": "python",
   "pygments_lexer": "ipython3",
   "version": "3.9.7"
  },
  "orig_nbformat": 4
 },
 "nbformat": 4,
 "nbformat_minor": 2
}
