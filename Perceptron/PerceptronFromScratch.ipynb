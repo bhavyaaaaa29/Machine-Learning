{
 "cells": [
  {
   "cell_type": "code",
   "execution_count": 2,
   "metadata": {},
   "outputs": [],
   "source": [
    "import numpy as np"
   ]
  },
  {
   "cell_type": "markdown",
   "metadata": {},
   "source": [
    "<h2>Step Function</h2>"
   ]
  },
  {
   "cell_type": "code",
   "execution_count": 1,
   "metadata": {},
   "outputs": [],
   "source": [
    "def step_func(z):\n",
    "    return 1.0 if (z>0) else 0.0"
   ]
  },
  {
   "cell_type": "markdown",
   "metadata": {},
   "source": [
    "<h2>Perceptron</h2>"
   ]
  },
  {
   "cell_type": "code",
   "execution_count": 3,
   "metadata": {},
   "outputs": [],
   "source": [
    "def perceptron(X,y,lr,epochs):\n",
    "    # m = No of training examples\n",
    "    # n = No of features\n",
    "    m,n = X.shape\n",
    "\n",
    "    #Initializing parameters to 0 along with a bias term\n",
    "    theta = np.zeros((n+1,1))\n",
    "\n",
    "    #List to store misclassified examples\n",
    "    miss_list = []\n",
    "\n",
    "    for epoch in range(epochs):\n",
    "        n_missclassified = 0\n",
    "        for idx , x_i in enumerate(X):\n",
    "            #inserting x0 = 1\n",
    "            x_i = np.insert(x_i,0,1).reshape(-1,1)\n",
    "\n",
    "            #calculating prediction\n",
    "            y_hat = step_func(np.dot(x_i.T,theta))\n",
    "\n",
    "            #updating if it is miss classified\n",
    "            if(np.squeeze(y_hat)-y[idx]) != 0:\n",
    "                theta += lr*((y[idx]-y_hat)*x_i)\n",
    "                n_missclassified+=1\n",
    "        miss_list.append(n_missclassified)\n",
    "    return theta,miss_list\n"
   ]
  }
 ],
 "metadata": {
  "kernelspec": {
   "display_name": "Python 3.9.7 64-bit",
   "language": "python",
   "name": "python3"
  },
  "language_info": {
   "name": "python",
   "version": "3.9.7"
  },
  "orig_nbformat": 4,
  "vscode": {
   "interpreter": {
    "hash": "4b9d19b9db74a40780af718af387eab4b3df341032b0e6ccab82828e79700946"
   }
  }
 },
 "nbformat": 4,
 "nbformat_minor": 2
}
