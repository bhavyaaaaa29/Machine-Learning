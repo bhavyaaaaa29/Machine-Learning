{
 "cells": [
  {
   "cell_type": "markdown",
   "metadata": {},
   "source": [
    "<h2>Naive Bayes</h2>"
   ]
  },
  {
   "cell_type": "code",
   "execution_count": 1,
   "metadata": {},
   "outputs": [],
   "source": [
    "from collections import defaultdict\n",
    "import math\n",
    "import re\n",
    "\n",
    "\n",
    "def tokenize(msg):\n",
    "    msg = msg.lower()\n",
    "    all_words = re.findall(\"[a-z0-9]+\",msg)\n",
    "    return set(all_words)\n",
    "\n",
    "def word_count(training_set):\n",
    "    #training set consist of pairs (msg,is_spam)\n",
    "    count = defaultdict(lambda: [0,0])\n",
    "    for msg , is_spam in training_set:\n",
    "        for word in tokenize(msg):\n",
    "            count[word][0 if is_spam else 1]+=1\n",
    "    return count\n",
    "\n",
    "def word_probabilities(count,total_spam,total_non_spam,k=0.5):\n",
    "    #k is to add bias to stop probabilty from being exactly 0\n",
    "    #returns triplets w,p(w | spam) and p(w | ~spam)\n",
    "    return [(w,(spam + k) / (total_spam + 2 * k),\n",
    " (non_spam + k) / (total_non_spam + 2 * k))\n",
    " for w, (spam, non_spam) in count.iteritems()]\n",
    "\n",
    "def spam_probability(word_prob,msg):\n",
    "    msg_words = tokenize(msg)\n",
    "    log_prob_if_spam = log_prob_if_not_spam = 0.0\n",
    "\n",
    "    for word, prob_if_spam, prob_if_not_spam in word_prob:\n",
    "        if word in msg_words:\n",
    "            log_prob_if_spam += math.log(prob_if_spam)\n",
    "            log_prob_if_not_spam += math.log(prob_if_not_spam)\n",
    "        else:\n",
    "            log_prob_if_spam += math.log(1.0 - prob_if_spam)\n",
    "            log_prob_if_not_spam += math.log(1.0 - prob_if_not_spam)\n",
    "        prob_if_spam = math.exp(log_prob_if_spam)\n",
    "    prob_if_not_spam = math.exp(log_prob_if_not_spam)\n",
    "    return prob_if_spam / (prob_if_spam + prob_if_not_spam)"
   ]
  },
  {
   "cell_type": "code",
   "execution_count": 2,
   "metadata": {},
   "outputs": [],
   "source": [
    "class NaiveBayesClassifier:\n",
    " def __init__(self, k=0.5):\n",
    "    self.k = k\n",
    "    self.word_probs = []\n",
    " def train(self, training_set):\n",
    "    # count spam and non-spam messages\n",
    "    num_spams = len([is_spam\n",
    "        for message, is_spam in training_set\n",
    "        if is_spam])\n",
    "    num_non_spams = len(training_set) - num_spams\n",
    "    # run training data through our \"pipeline\"\n",
    "    word_counts = count_words(training_set)\n",
    "    self.word_probs = word_probabilities(word_counts,\n",
    "    num_spams,\n",
    "    num_non_spams,\n",
    "    self.k)\n",
    " def classify(self, message):\n",
    "    return spam_probability(self.word_probs, message)"
   ]
  }
 ],
 "metadata": {
  "kernelspec": {
   "display_name": "Python 3.9.7 ('base')",
   "language": "python",
   "name": "python3"
  },
  "language_info": {
   "codemirror_mode": {
    "name": "ipython",
    "version": 3
   },
   "file_extension": ".py",
   "mimetype": "text/x-python",
   "name": "python",
   "nbconvert_exporter": "python",
   "pygments_lexer": "ipython3",
   "version": "3.9.7"
  },
  "orig_nbformat": 4,
  "vscode": {
   "interpreter": {
    "hash": "cccb4499b38a1e262f78e5f92f26562ebedc29e9bdd8f69b4caa5bb80c0fad46"
   }
  }
 },
 "nbformat": 4,
 "nbformat_minor": 2
}
