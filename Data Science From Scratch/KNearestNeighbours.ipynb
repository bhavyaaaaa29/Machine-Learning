{
 "cells": [
  {
   "cell_type": "markdown",
   "metadata": {},
   "source": [
    "<h2>K-Nearest Neighbours</h2>"
   ]
  },
  {
   "cell_type": "code",
   "execution_count": 2,
   "metadata": {},
   "outputs": [],
   "source": [
    "from typing import Counter\n",
    "\n",
    "\n",
    "def majority_vote(labels):\n",
    "    vote_counts = Counter(labels)\n",
    "    winner, winner_count = vote_counts.most_common(1)[0]\n",
    "    num_winners = len([count \n",
    "                       for count in vote_counts.values()\n",
    "                       if count == winner_count])\n",
    "    if num_winners == 1:\n",
    "        return winner\n",
    "    else:\n",
    "        return majority_vote(labels[:-1])\n"
   ]
  },
  {
   "cell_type": "code",
   "execution_count": 3,
   "metadata": {},
   "outputs": [],
   "source": [
    "from cmath import sqrt\n",
    "\n",
    "\n",
    "def distance(p1,p2):\n",
    "    dis_sqr = (p1[0]-p2[0])**2 - (p1[1]-p2[1])**2\n",
    "    return sqrt(dis_sqr)\n"
   ]
  },
  {
   "cell_type": "code",
   "execution_count": 4,
   "metadata": {},
   "outputs": [],
   "source": [
    "def knn_classify(k,labeled_points,new_point):\n",
    "\n",
    "    #order the labeled points from nearest to farthest\n",
    "    by_distance = sorted(labeled_points,key = lambda point,_ :distance(point,new_point))\n",
    "\n",
    "    #find the labels for k closest\n",
    "    k_nearest_labels = [label for _,label in by_distance[:k]]\n",
    "\n",
    "    return majority_vote(k_nearest_labels)\n"
   ]
  }
 ],
 "metadata": {
  "kernelspec": {
   "display_name": "Python 3.9.7 ('base')",
   "language": "python",
   "name": "python3"
  },
  "language_info": {
   "codemirror_mode": {
    "name": "ipython",
    "version": 3
   },
   "file_extension": ".py",
   "mimetype": "text/x-python",
   "name": "python",
   "nbconvert_exporter": "python",
   "pygments_lexer": "ipython3",
   "version": "3.9.7"
  },
  "orig_nbformat": 4,
  "vscode": {
   "interpreter": {
    "hash": "cccb4499b38a1e262f78e5f92f26562ebedc29e9bdd8f69b4caa5bb80c0fad46"
   }
  }
 },
 "nbformat": 4,
 "nbformat_minor": 2
}
